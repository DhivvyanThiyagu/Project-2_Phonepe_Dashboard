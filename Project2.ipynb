{
  "nbformat": 4,
  "nbformat_minor": 0,
  "metadata": {
    "colab": {
      "provenance": []
    },
    "kernelspec": {
      "name": "python3",
      "display_name": "Python 3"
    },
    "language_info": {
      "name": "python"
    }
  },
  "cells": [
    {
      "cell_type": "code",
      "execution_count": 1,
      "metadata": {
        "colab": {
          "base_uri": "https://localhost:8080/"
        },
        "id": "bogCfLmvkElB",
        "outputId": "1fe38c4f-d1f1-4c79-ad6f-862c5e20a9c0"
      },
      "outputs": [
        {
          "output_type": "stream",
          "name": "stdout",
          "text": [
            "Cloning into 'pulse'...\n",
            "remote: Enumerating objects: 7975, done.\u001b[K\n",
            "remote: Counting objects: 100% (7975/7975), done.\u001b[K\n",
            "remote: Compressing objects: 100% (6637/6637), done.\u001b[K\n",
            "remote: Total 7975 (delta 2465), reused 6527 (delta 1031), pack-reused 0\u001b[K\n",
            "Receiving objects: 100% (7975/7975), 2.11 MiB | 8.47 MiB/s, done.\n",
            "Resolving deltas: 100% (2465/2465), done.\n"
          ]
        }
      ],
      "source": [
        "!git clone https://github.com/PhonePe/pulse.git"
      ]
    },
    {
      "cell_type": "code",
      "source": [
        "import pandas as pd\n",
        "import json\n",
        "import os"
      ],
      "metadata": {
        "id": "B3IgGTPNkV5j"
      },
      "execution_count": 2,
      "outputs": []
    },
    {
      "cell_type": "code",
      "source": [
        "path=\"/content/pulse/data/aggregated/transaction/country/india/state/\"\n",
        "Agg_state_list=os.listdir(path)\n",
        "Agg_state_list"
      ],
      "metadata": {
        "colab": {
          "base_uri": "https://localhost:8080/"
        },
        "id": "NB0gkRM3tzZj",
        "outputId": "6eebf554-982d-437b-e8f6-7d3b9f878153"
      },
      "execution_count": 3,
      "outputs": [
        {
          "output_type": "execute_result",
          "data": {
            "text/plain": [
              "['mizoram',\n",
              " 'lakshadweep',\n",
              " 'meghalaya',\n",
              " 'chhattisgarh',\n",
              " 'karnataka',\n",
              " 'odisha',\n",
              " 'kerala',\n",
              " 'goa',\n",
              " 'uttarakhand',\n",
              " 'punjab',\n",
              " 'andhra-pradesh',\n",
              " 'tamil-nadu',\n",
              " 'arunachal-pradesh',\n",
              " 'chandigarh',\n",
              " 'madhya-pradesh',\n",
              " 'west-bengal',\n",
              " 'assam',\n",
              " 'uttar-pradesh',\n",
              " 'gujarat',\n",
              " 'manipur',\n",
              " 'tripura',\n",
              " 'puducherry',\n",
              " 'bihar',\n",
              " 'jammu-&-kashmir',\n",
              " 'nagaland',\n",
              " 'rajasthan',\n",
              " 'delhi',\n",
              " 'maharashtra',\n",
              " 'telangana',\n",
              " 'andaman-&-nicobar-islands',\n",
              " 'himachal-pradesh',\n",
              " 'jharkhand',\n",
              " 'haryana',\n",
              " 'ladakh',\n",
              " 'sikkim',\n",
              " 'dadra-&-nagar-haveli-&-daman-&-diu']"
            ]
          },
          "metadata": {},
          "execution_count": 3
        }
      ]
    },
    {
      "cell_type": "code",
      "source": [
        "dhivvi={'State':[],'Year':[],'Quater':[],'Transaction_Type':[],'Transaction_Count':[],'Transaction_Amount':[]}\n",
        "for i in Agg_state_list:\n",
        "  "
      ],
      "metadata": {
        "id": "zsuUg-cmz3Hc"
      },
      "execution_count": null,
      "outputs": []
    }
  ]
}